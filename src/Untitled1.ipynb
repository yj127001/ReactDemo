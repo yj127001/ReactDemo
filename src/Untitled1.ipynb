{
 "cells": [
  {
   "cell_type": "code",
   "execution_count": null,
   "id": "8b4a6b9f",
   "metadata": {},
   "outputs": [],
   "source": [
    "uploaded = files.upload()\n",
    "\n",
    "if len(uploaded) != 1:\n",
    "  print(\"Upload exactly 1 file for source.\")\n",
    "else:\n",
    "  for k, v in uploaded.items():\n",
    "    _, ext = os.path.splitext(k)\n",
    "    os.remove(k)\n",
    "    SOURCE_NAME = f\"source{ext}\"\n",
    "    open(SOURCE_NAME, 'wb').write(v)"
   ]
  },
  {
   "cell_type": "code",
   "execution_count": null,
   "id": "9d8df365",
   "metadata": {},
   "outputs": [],
   "source": []
  }
 ],
 "metadata": {
  "kernelspec": {
   "display_name": "Python 3.8.16 (tensorflow)",
   "language": "python",
   "name": "tensorflow"
  },
  "language_info": {
   "codemirror_mode": {
    "name": "ipython",
    "version": 3
   },
   "file_extension": ".py",
   "mimetype": "text/x-python",
   "name": "python",
   "nbconvert_exporter": "python",
   "pygments_lexer": "ipython3",
   "version": "3.8.17"
  }
 },
 "nbformat": 4,
 "nbformat_minor": 5
}
