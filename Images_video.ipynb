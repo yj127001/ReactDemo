{
 "cells": [
  {
   "cell_type": "code",
   "execution_count": 3,
   "id": "c55ba519",
   "metadata": {},
   "outputs": [
    {
     "data": {
      "text/html": [
       "<div>\n",
       "<style scoped>\n",
       "    .dataframe tbody tr th:only-of-type {\n",
       "        vertical-align: middle;\n",
       "    }\n",
       "\n",
       "    .dataframe tbody tr th {\n",
       "        vertical-align: top;\n",
       "    }\n",
       "\n",
       "    .dataframe thead th {\n",
       "        text-align: right;\n",
       "    }\n",
       "</style>\n",
       "<table border=\"1\" class=\"dataframe\">\n",
       "  <thead>\n",
       "    <tr style=\"text-align: right;\">\n",
       "      <th></th>\n",
       "      <th>age</th>\n",
       "      <th>gender</th>\n",
       "      <th>genre</th>\n",
       "    </tr>\n",
       "  </thead>\n",
       "  <tbody>\n",
       "    <tr>\n",
       "      <th>0</th>\n",
       "      <td>20</td>\n",
       "      <td>1</td>\n",
       "      <td>HipHop</td>\n",
       "    </tr>\n",
       "    <tr>\n",
       "      <th>1</th>\n",
       "      <td>23</td>\n",
       "      <td>1</td>\n",
       "      <td>HipHop</td>\n",
       "    </tr>\n",
       "    <tr>\n",
       "      <th>2</th>\n",
       "      <td>25</td>\n",
       "      <td>1</td>\n",
       "      <td>HipHop</td>\n",
       "    </tr>\n",
       "    <tr>\n",
       "      <th>3</th>\n",
       "      <td>26</td>\n",
       "      <td>1</td>\n",
       "      <td>Jazz</td>\n",
       "    </tr>\n",
       "    <tr>\n",
       "      <th>4</th>\n",
       "      <td>29</td>\n",
       "      <td>1</td>\n",
       "      <td>Jazz</td>\n",
       "    </tr>\n",
       "    <tr>\n",
       "      <th>5</th>\n",
       "      <td>30</td>\n",
       "      <td>1</td>\n",
       "      <td>Jazz</td>\n",
       "    </tr>\n",
       "    <tr>\n",
       "      <th>6</th>\n",
       "      <td>31</td>\n",
       "      <td>1</td>\n",
       "      <td>Classical</td>\n",
       "    </tr>\n",
       "    <tr>\n",
       "      <th>7</th>\n",
       "      <td>33</td>\n",
       "      <td>1</td>\n",
       "      <td>Classical</td>\n",
       "    </tr>\n",
       "    <tr>\n",
       "      <th>8</th>\n",
       "      <td>37</td>\n",
       "      <td>1</td>\n",
       "      <td>Classical</td>\n",
       "    </tr>\n",
       "    <tr>\n",
       "      <th>9</th>\n",
       "      <td>20</td>\n",
       "      <td>0</td>\n",
       "      <td>Dance</td>\n",
       "    </tr>\n",
       "    <tr>\n",
       "      <th>10</th>\n",
       "      <td>21</td>\n",
       "      <td>0</td>\n",
       "      <td>Dance</td>\n",
       "    </tr>\n",
       "    <tr>\n",
       "      <th>11</th>\n",
       "      <td>25</td>\n",
       "      <td>0</td>\n",
       "      <td>Dance</td>\n",
       "    </tr>\n",
       "    <tr>\n",
       "      <th>12</th>\n",
       "      <td>26</td>\n",
       "      <td>0</td>\n",
       "      <td>Acoustic</td>\n",
       "    </tr>\n",
       "    <tr>\n",
       "      <th>13</th>\n",
       "      <td>27</td>\n",
       "      <td>0</td>\n",
       "      <td>Acoustic</td>\n",
       "    </tr>\n",
       "    <tr>\n",
       "      <th>14</th>\n",
       "      <td>30</td>\n",
       "      <td>0</td>\n",
       "      <td>Acoustic</td>\n",
       "    </tr>\n",
       "    <tr>\n",
       "      <th>15</th>\n",
       "      <td>31</td>\n",
       "      <td>0</td>\n",
       "      <td>Classical</td>\n",
       "    </tr>\n",
       "    <tr>\n",
       "      <th>16</th>\n",
       "      <td>34</td>\n",
       "      <td>0</td>\n",
       "      <td>Classical</td>\n",
       "    </tr>\n",
       "    <tr>\n",
       "      <th>17</th>\n",
       "      <td>35</td>\n",
       "      <td>0</td>\n",
       "      <td>Classical</td>\n",
       "    </tr>\n",
       "  </tbody>\n",
       "</table>\n",
       "</div>"
      ],
      "text/plain": [
       "    age  gender      genre\n",
       "0    20       1     HipHop\n",
       "1    23       1     HipHop\n",
       "2    25       1     HipHop\n",
       "3    26       1       Jazz\n",
       "4    29       1       Jazz\n",
       "5    30       1       Jazz\n",
       "6    31       1  Classical\n",
       "7    33       1  Classical\n",
       "8    37       1  Classical\n",
       "9    20       0      Dance\n",
       "10   21       0      Dance\n",
       "11   25       0      Dance\n",
       "12   26       0   Acoustic\n",
       "13   27       0   Acoustic\n",
       "14   30       0   Acoustic\n",
       "15   31       0  Classical\n",
       "16   34       0  Classical\n",
       "17   35       0  Classical"
      ]
     },
     "execution_count": 3,
     "metadata": {},
     "output_type": "execute_result"
    }
   ],
   "source": [
    "import pandas as pd\n",
    "from sklearn.tree import DecisionTreeClassifier\n",
    "music_data = pd.read_csv('music.csv')\n",
    "music_data"
   ]
  },
  {
   "cell_type": "code",
   "execution_count": 9,
   "id": "85d2898c",
   "metadata": {},
   "outputs": [
    {
     "data": {
      "application/vnd.jupyter.widget-view+json": {
       "model_id": "c5e8130e45704294adbabfec00ce9b58",
       "version_major": 2,
       "version_minor": 0
      },
      "text/plain": [
       "FileUpload(value=(), description='Upload')"
      ]
     },
     "metadata": {},
     "output_type": "display_data"
    },
    {
     "name": "stdout",
     "output_type": "stream",
     "text": [
      "Upload exactly 1 file for source.\n"
     ]
    }
   ],
   "source": [
    "from ipywidgets import FileUpload\n",
    "import os\n",
    "\n",
    "uploader = FileUpload()\n",
    "display(uploader)\n",
    "\n",
    "if len(uploader.value) != 1:\n",
    "  print(\"Upload exactly 1 file for source.\")\n",
    "else:\n",
    "  for k, v in uploader.value.items():\n",
    "    _, ext = os.path.splitext(k)\n",
    "    os.remove(k)\n",
    "    SOURCE_NAME = f\"source{ext}\"\n",
    "    open(SOURCE_NAME, 'wb').write(v['content'])"
   ]
  },
  {
   "cell_type": "code",
   "execution_count": 10,
   "id": "86d12921",
   "metadata": {},
   "outputs": [
    {
     "data": {
      "application/vnd.jupyter.widget-view+json": {
       "model_id": "a7b401490d774531a9f5cd316f58244f",
       "version_major": 2,
       "version_minor": 0
      },
      "text/plain": [
       "FileUpload(value=(), description='Upload')"
      ]
     },
     "metadata": {},
     "output_type": "display_data"
    },
    {
     "name": "stdout",
     "output_type": "stream",
     "text": [
      "Upload exactly 1 file for target.\n"
     ]
    }
   ],
   "source": [
    "uploader = FileUpload()\n",
    "display(uploader)\n",
    "\n",
    "if len(uploader.value) != 1:\n",
    "  print(\"Upload exactly 1 file for target.\")\n",
    "else:\n",
    "  for k, v in uploader.value.items():\n",
    "    _, ext = os.path.splitext(k)\n",
    "    os.remove(k)\n",
    "    TARGET_NAME = f\"target{ext}\"\n",
    "    open(TARGET_NAME, 'wb').write(v['content'])"
   ]
  },
  {
   "cell_type": "code",
   "execution_count": 11,
   "id": "6b32d3ff",
   "metadata": {},
   "outputs": [
    {
     "name": "stdout",
     "output_type": "stream",
     "text": [
      "--2023-07-12 16:06:58--  http://dlib.net/files/shape_predictor_5_face_landmarks.dat.bz2\n",
      "Resolving dlib.net (dlib.net)... 107.180.26.78\n",
      "Connecting to dlib.net (dlib.net)|107.180.26.78|:80... connected.\n",
      "HTTP request sent, awaiting response... 200 OK\n",
      "Length: 5706710 (5.4M)\n",
      "Saving to: ‘shape_predictor_5_face_landmarks.dat.bz2’\n",
      "\n",
      "shape_predictor_5_f 100%[===================>]   5.44M  1.51MB/s    in 3.6s    \n",
      "\n",
      "2023-07-12 16:07:02 (1.51 MB/s) - ‘shape_predictor_5_face_landmarks.dat.bz2’ saved [5706710/5706710]\n",
      "\n"
     ]
    }
   ],
   "source": [
    "!wget http://dlib.net/files/shape_predictor_5_face_landmarks.dat.bz2\n",
    "!bzip2 -d shape_predictor_5_face_landmarks.dat.bz2"
   ]
  },
  {
   "cell_type": "code",
   "execution_count": 23,
   "id": "3f48a312",
   "metadata": {},
   "outputs": [
    {
     "name": "stdout",
     "output_type": "stream",
     "text": [
      "fatal: destination path 'stylegan2-ada-pytorch' already exists and is not an empty directory.\n",
      "/bin/bash: /usr/local/bin/pip: /usr/bin/python: bad interpreter: No such file or directory\n"
     ]
    }
   ],
   "source": [
    "import sys\n",
    "!git clone https://github.com/NVlabs/stylegan2-ada-pytorch.git\n",
    "!pip install ninja\n",
    "sys.path.insert(0, \"/content/stylegan2-ada-pytorch\")"
   ]
  },
  {
   "cell_type": "code",
   "execution_count": 21,
   "id": "4bb93f30",
   "metadata": {},
   "outputs": [
    {
     "ename": "ModuleNotFoundError",
     "evalue": "No module named 'cv2'",
     "output_type": "error",
     "traceback": [
      "\u001b[0;31m---------------------------------------------------------------------------\u001b[0m",
      "\u001b[0;31mModuleNotFoundError\u001b[0m                       Traceback (most recent call last)",
      "Cell \u001b[0;32mIn[21], line 1\u001b[0m\n\u001b[0;32m----> 1\u001b[0m \u001b[38;5;28;01mimport\u001b[39;00m \u001b[38;5;21;01mcv2\u001b[39;00m\n\u001b[1;32m      2\u001b[0m \u001b[38;5;28;01mimport\u001b[39;00m \u001b[38;5;21;01mnumpy\u001b[39;00m \u001b[38;5;28;01mas\u001b[39;00m \u001b[38;5;21;01mnp\u001b[39;00m\n\u001b[1;32m      3\u001b[0m \u001b[38;5;28;01mfrom\u001b[39;00m \u001b[38;5;21;01mPIL\u001b[39;00m \u001b[38;5;28;01mimport\u001b[39;00m Image\n",
      "\u001b[0;31mModuleNotFoundError\u001b[0m: No module named 'cv2'"
     ]
    }
   ],
   "source": [
    "import cv2\n",
    "import numpy as np\n",
    "from PIL import Image\n",
    "import dlib\n",
    "\n",
    "detector = dlib.get_frontal_face_detector()\n",
    "predictor = dlib.shape_predictor('shape_predictor_5_face_landmarks.dat')\n",
    "\n",
    "def find_eyes(img):\n",
    "  gray = cv2.cvtColor(img, cv2.COLOR_BGR2GRAY)\n",
    "  rects = detector(gray, 0)\n",
    "  \n",
    "  if len(rects) == 0:\n",
    "    raise ValueError(\"No faces detected\")\n",
    "  elif len(rects) > 1:\n",
    "    raise ValueError(\"Multiple faces detected\")\n",
    "\n",
    "  shape = predictor(gray, rects[0])\n",
    "  features = []\n",
    "\n",
    "  for i in range(0, 5):\n",
    "    features.append((i, (shape.part(i).x, shape.part(i).y)))\n",
    "\n",
    "  return (int(features[3][1][0] + features[2][1][0]) // 2, \\\n",
    "    int(features[3][1][1] + features[2][1][1]) // 2), \\\n",
    "    (int(features[1][1][0] + features[0][1][0]) // 2, \\\n",
    "    int(features[1][1][1] + features[0][1][1]) // 2)\n",
    "\n",
    "def crop_stylegan(img):\n",
    "  left_eye, right_eye = find_eyes(img)\n",
    "  d = abs(right_eye[0] - left_eye[0])\n",
    "  z = 255/d\n",
    "  ar = img.shape[0]/img.shape[1]\n",
    "  w = img.shape[1] * z\n",
    "  img2 = cv2.resize(img, (int(w), int(w*ar)))\n",
    "  bordersize = 1024\n",
    "  img3 = cv2.copyMakeBorder(\n",
    "      img2,\n",
    "      top=bordersize,\n",
    "      bottom=bordersize,\n",
    "      left=bordersize,\n",
    "      right=bordersize,\n",
    "      borderType=cv2.BORDER_REPLICATE)\n",
    "\n",
    "  left_eye2, right_eye2 = find_eyes(img3)\n",
    "\n",
    "  crop1 = left_eye2[0] - 385 \n",
    "  crop0 = left_eye2[1] - 490\n",
    "  return img3[crop0:crop0+1024,crop1:crop1+1024]"
   ]
  },
  {
   "cell_type": "code",
   "execution_count": 24,
   "id": "fdd8cc9d",
   "metadata": {},
   "outputs": [
    {
     "name": "stdout",
     "output_type": "stream",
     "text": [
      "/usr/local/bin/pip\r\n"
     ]
    }
   ],
   "source": [
    "!which pip"
   ]
  },
  {
   "cell_type": "code",
   "execution_count": null,
   "id": "e869392e",
   "metadata": {},
   "outputs": [],
   "source": []
  }
 ],
 "metadata": {
  "kernelspec": {
   "display_name": "Python 3.8.16 (tensorflow)",
   "language": "python",
   "name": "tensorflow"
  },
  "language_info": {
   "codemirror_mode": {
    "name": "ipython",
    "version": 3
   },
   "file_extension": ".py",
   "mimetype": "text/x-python",
   "name": "python",
   "nbconvert_exporter": "python",
   "pygments_lexer": "ipython3",
   "version": "3.8.17"
  }
 },
 "nbformat": 4,
 "nbformat_minor": 5
}
